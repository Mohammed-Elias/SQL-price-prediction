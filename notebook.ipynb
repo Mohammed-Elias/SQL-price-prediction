{
 "cells": [
  {
   "cell_type": "markdown",
   "metadata": {},
   "source": [
    "The code snippet below was written to convert tsv file to csv."
   ]
  },
  {
   "cell_type": "code",
   "execution_count": 1,
   "metadata": {},
   "outputs": [
    {
     "name": "stdout",
     "output_type": "stream",
     "text": [
      "Successfully made csv file\n"
     ]
    }
   ],
   "source": [
    "import re\n",
    " \n",
    "# reading given tsv file\n",
    "with open(\"testset_B.tsv\", 'r') as myfile: \n",
    "  with open(\"testset_B.csv\", 'w') as csv_file:\n",
    "    for line in myfile:\n",
    "       \n",
    "      # Replace every tab with comma\n",
    "      fileContent = re.sub(\"\\t\", \",\", line)\n",
    "       \n",
    "      # Writing into csv file\n",
    "      csv_file.write(fileContent)\n",
    " \n",
    "# output\n",
    "print(\"Successfully made csv file\")"
   ]
  },
  {
   "cell_type": "markdown",
   "metadata": {},
   "source": [
    "The code snippets here, connect to the MySQL DB and make 3 Queries to address what has been asked in the first task."
   ]
  },
  {
   "cell_type": "code",
   "execution_count": 8,
   "metadata": {},
   "outputs": [
    {
     "name": "stdout",
     "output_type": "stream",
     "text": [
      "Connected successfully!!!\n",
      "[{'ranking_for_price': 1, 'brand': 'Lenovo'}, {'ranking_for_price': 2, 'brand': 'HP'}, {'ranking_for_price': 3, 'brand': 'MSI'}, {'ranking_for_price': 4, 'brand': 'Samsung'}, {'ranking_for_price': 5, 'brand': 'Acer'}, {'ranking_for_price': 6, 'brand': 'Toshiba'}, {'ranking_for_price': 7, 'brand': 'asus'}, {'ranking_for_price': 8, 'brand': 'Microsoft'}, {'ranking_for_price': 9, 'brand': 'unknown'}, {'ranking_for_price': 10, 'brand': 'DELL'}, {'ranking_for_price': 11, 'brand': 'Apple'}]\n",
      "----------------------------\n",
      "[{'Smallest_HDD_GB': 500, 'Biggest_HDD_GB': 2000}]\n",
      "----------------------------\n",
      "[{'AVG(INNER_SELECT_RESULT.GHz)': 2.5, 'RAM_GB': 4}]\n"
     ]
    }
   ],
   "source": [
    "import sqlalchemy as db\n",
    "import json\n",
    "\n",
    "# specify database configurations\n",
    "config = {\n",
    "    'host': 'localhost',\n",
    "    'port': 3306,\n",
    "    'user': 'root',\n",
    "    'password': 'my-secret-pw',\n",
    "    'database': 'my_db'\n",
    "}\n",
    "\n",
    "db_user = config.get('user')\n",
    "db_pwd = config.get('password')\n",
    "db_host = config.get('host')\n",
    "db_port = config.get('port')\n",
    "db_name = config.get('database')\n",
    "\n",
    "# specify connection string\n",
    "connection_str = f'mysql+pymysql://{db_user}:{db_pwd}@{db_host}:{db_port}/{db_name}'\n",
    "\n",
    "# connect to database\n",
    "try:\n",
    "    db_engine = db.create_engine(connection_str)\n",
    "    print(\"Connected successfully!!!\")\n",
    "except:  \n",
    "    print(\"Could not connect to MongoDB\")\n",
    "\n",
    "statement_1 = \"SELECT \\\n",
    "                RANK() OVER(ORDER BY AVG(price) ASC) AS ranking_for_price, \\\n",
    "                brand \\\n",
    "               FROM testset_B \\\n",
    "               GROUP BY brand;\"\n",
    "\n",
    "statement_2 = \"SELECT \\\n",
    "                MIN(HDD_GB) AS Smallest_HDD_GB,\\\n",
    "                MAX(HDD_GB) AS Biggest_HDD_GB\\\n",
    "               FROM testset_B;\"\n",
    "\n",
    "statement_ = \"set @rowindex := -1;\"\n",
    "statement_3 = \"SELECT AVG(INNER_SELECT_RESULT.GHz), INNER_SELECT_RESULT.RAM_GB \\\n",
    "               FROM \\\n",
    "               ( \\\n",
    "                SELECT @rowindex := @rowindex+1 AS rowindex, RAM_GB, GHz \\\n",
    "                FROM testset_B \\\n",
    "                ORDER BY GHz \\\n",
    "               ) AS INNER_SELECT_RESULT\\\n",
    "               WHERE INNER_SELECT_RESULT.rowindex IN (FLOOR(@rowindex/2), CEIL(@rowindex/2)) \\\n",
    "               GROUP BY INNER_SELECT_RESULT.RAM_GB;\"\n",
    "\n",
    "result_1_as_dict = []\n",
    "result_2_as_dict = []\n",
    "result_3_as_dict = []\n",
    "\n",
    "with db_engine.connect() as db_conn:  \n",
    "    result_1 = db_conn.execute(statement_1)\n",
    "    result_2 = db_conn.execute(statement_2)\n",
    "    _ = db_conn.execute(statement_)\n",
    "    result_3 = db_conn.execute(statement_3)\n",
    "    \n",
    "    result_1_as_dict = [dict(row) for row in result_1]\n",
    "    print(result_1_as_dict)\n",
    "    print(\"----------------------------\")\n",
    "    result_2_as_dict = [dict(row) for row in result_2]\n",
    "    print(result_2_as_dict)\n",
    "    print(\"----------------------------\")\n",
    "    result_3_as_dict = [dict(row) for row in result_3]\n",
    "    print(result_3_as_dict)\n",
    "    # for row in result_1:\n",
    "    #     print(dict(row))\n",
    "    # for row in result_2:\n",
    "    #     print(dict(row))\n",
    "    # for row in result_3:\n",
    "    #     print(dict(row))\n",
    "# Save result to MongoDB:"
   ]
  },
  {
   "cell_type": "markdown",
   "metadata": {},
   "source": [
    "The code snippet below, will address the second part of the first task, to connect to MongoDB and store all the queries from the code snippet above."
   ]
  },
  {
   "cell_type": "code",
   "execution_count": 9,
   "metadata": {},
   "outputs": [
    {
     "name": "stdout",
     "output_type": "stream",
     "text": [
      "Connected successfully!!!\n",
      "Data inserted with record ids <pymongo.results.InsertManyResult object at 0x17784a670>   <pymongo.results.InsertManyResult object at 0x17784a6a0>   <pymongo.results.InsertManyResult object at 0x17784a5b0>\n",
      "{'_id': ObjectId('6358ffb087c88d90d8f7834c'), 'ranking_for_price': 1, 'brand': 'Lenovo'}\n",
      "{'_id': ObjectId('6358ffb087c88d90d8f7834d'), 'ranking_for_price': 2, 'brand': 'HP'}\n",
      "{'_id': ObjectId('6358ffb087c88d90d8f7834e'), 'ranking_for_price': 3, 'brand': 'MSI'}\n",
      "{'_id': ObjectId('6358ffb087c88d90d8f7834f'), 'ranking_for_price': 4, 'brand': 'Samsung'}\n",
      "{'_id': ObjectId('6358ffb087c88d90d8f78350'), 'ranking_for_price': 5, 'brand': 'Acer'}\n",
      "{'_id': ObjectId('6358ffb087c88d90d8f78351'), 'ranking_for_price': 6, 'brand': 'Toshiba'}\n",
      "{'_id': ObjectId('6358ffb087c88d90d8f78352'), 'ranking_for_price': 7, 'brand': 'asus'}\n",
      "{'_id': ObjectId('6358ffb087c88d90d8f78353'), 'ranking_for_price': 8, 'brand': 'Microsoft'}\n",
      "{'_id': ObjectId('6358ffb087c88d90d8f78354'), 'ranking_for_price': 9, 'brand': 'unknown'}\n",
      "{'_id': ObjectId('6358ffb087c88d90d8f78355'), 'ranking_for_price': 10, 'brand': 'DELL'}\n",
      "{'_id': ObjectId('6358ffb087c88d90d8f78356'), 'ranking_for_price': 11, 'brand': 'Apple'}\n",
      "{'_id': ObjectId('6358ffb087c88d90d8f78357'), 'Smallest_HDD_GB': 500, 'Biggest_HDD_GB': 2000}\n",
      "{'_id': ObjectId('6358ffb087c88d90d8f78358'), 'AVG(INNER_SELECT_RESULT.GHz)': 2.5, 'RAM_GB': 4}\n"
     ]
    }
   ],
   "source": [
    "from pymongo import DeleteMany, MongoClient\n",
    "  \n",
    "try:\n",
    "    conn = MongoClient()\n",
    "    print(\"Connected successfully!!!\")\n",
    "except:  \n",
    "    print(\"Could not connect to MongoDB\")\n",
    "  \n",
    "# database\n",
    "db = conn.database\n",
    "  \n",
    "# Created or Switched to collection names: my_gfg_collection\n",
    "collection = db.my_gfg_collection\n",
    "\n",
    "db.my_gfg_collection.delete_many({})\n",
    " \n",
    "# Insert Data\n",
    "rec_id1 = collection.insert_many(result_1_as_dict)\n",
    "rec_id2 = collection.insert_many(result_2_as_dict)\n",
    "rec_id3 = collection.insert_many(result_3_as_dict)\n",
    "  \n",
    "print(\"Data inserted with record ids\",rec_id1,\" \",rec_id2, \" \",rec_id3)\n",
    "  \n",
    "# Printing the data inserted\n",
    "cursor = collection.find()\n",
    "for record in cursor:\n",
    "    print(record)"
   ]
  },
  {
   "cell_type": "markdown",
   "metadata": {},
   "source": [
    "In this part we will try to address the \"House Price Prediction\" task."
   ]
  },
  {
   "cell_type": "code",
   "execution_count": 10,
   "metadata": {},
   "outputs": [],
   "source": [
    "import numpy as np\n",
    "import matplotlib.pyplot as plt\n",
    "%matplotlib inline"
   ]
  },
  {
   "cell_type": "code",
   "execution_count": 11,
   "metadata": {},
   "outputs": [],
   "source": [
    "X = [1400,1600,1700,1875,1100,1550,2350,2450,1425,1700]\n",
    "Y = [245,312,279,308,199,219,405,324,319,255]"
   ]
  },
  {
   "cell_type": "code",
   "execution_count": 12,
   "metadata": {},
   "outputs": [
    {
     "data": {
      "text/plain": [
       "(10, 10)"
      ]
     },
     "execution_count": 12,
     "metadata": {},
     "output_type": "execute_result"
    }
   ],
   "source": [
    "len(X), len(Y)"
   ]
  },
  {
   "cell_type": "markdown",
   "metadata": {},
   "source": [
    "plotting the data trying to discover it a bit."
   ]
  },
  {
   "cell_type": "code",
   "execution_count": 13,
   "metadata": {},
   "outputs": [
    {
     "data": {
      "text/plain": [
       "Text(0.5, 0, 'Price')"
      ]
     },
     "execution_count": 13,
     "metadata": {},
     "output_type": "execute_result"
    },
    {
     "data": {
      "image/png": "[encoded data removed]",
      "text/plain": [
       "<Figure size 640x480 with 1 Axes>"
      ]
     },
     "metadata": {},
     "output_type": "display_data"
    }
   ],
   "source": [
    "plt.scatter(X,Y)\n",
    "plt.title(\"Price vs Square Feet\")\n",
    "plt.ylabel('Square Feet', fontsize=12)\n",
    "plt.xlabel('Price', fontsize=12)"
   ]
  },
  {
   "cell_type": "code",
   "execution_count": 14,
   "metadata": {},
   "outputs": [],
   "source": [
    "import seaborn as sns"
   ]
  },
  {
   "cell_type": "markdown",
   "metadata": {},
   "source": [
    "Trying to figure if the data skewed to the right/left."
   ]
  },
  {
   "cell_type": "code",
   "execution_count": 15,
   "metadata": {},
   "outputs": [
    {
     "name": "stderr",
     "output_type": "stream",
     "text": [
      "/var/folders/gv/8c00s1091s54cpjhkf3_8c_80000gn/T/ipykernel_55714/129081890.py:1: UserWarning: \n",
      "\n",
      "`distplot` is a deprecated function and will be removed in seaborn v0.14.0.\n",
      "\n",
      "Please adapt your code to use either `displot` (a figure-level function with\n",
      "similar flexibility) or `histplot` (an axes-level function for histograms).\n",
      "\n",
      "For a guide to updating your code to use the new functions, please see\n",
      "https://gist.github.com/mwaskom/de44147ed2974457ad6372750bbe5751\n",
      "\n",
      "  sns.distplot(X)\n"
     ]
    },
    {
     "data": {
      "text/plain": [
       "<AxesSubplot: ylabel='Density'>"
      ]
     },
     "execution_count": 15,
     "metadata": {},
     "output_type": "execute_result"
    },
    {
     "data": {
      "image/png": "[encoded data removed]",
      "text/plain": [
       "<Figure size 640x480 with 1 Axes>"
      ]
     },
     "metadata": {},
     "output_type": "display_data"
    }
   ],
   "source": [
    "sns.distplot(X)"
   ]
  },
  {
   "cell_type": "markdown",
   "metadata": {},
   "source": [
    "Trying to find the outliers."
   ]
  },
  {
   "cell_type": "code",
   "execution_count": 16,
   "metadata": {},
   "outputs": [
    {
     "data": {
      "text/plain": [
       "<AxesSubplot: >"
      ]
     },
     "execution_count": 16,
     "metadata": {},
     "output_type": "execute_result"
    },
    {
     "data": {
      "image/png": "[encoded data removed]",
      "text/plain": [
       "<Figure size 640x480 with 1 Axes>"
      ]
     },
     "metadata": {},
     "output_type": "display_data"
    }
   ],
   "source": [
    "sns.boxplot(X)"
   ]
  },
  {
   "cell_type": "code",
   "execution_count": 17,
   "metadata": {},
   "outputs": [
    {
     "data": {
      "text/plain": [
       "(2904.264478574888, 525.7355214251122)"
      ]
     },
     "execution_count": 17,
     "metadata": {},
     "output_type": "execute_result"
    }
   ],
   "source": [
    "# find the limits of the normal dist's curve.\n",
    "upper_limit = np.array(X).mean() + 3*np.array(X).std()\n",
    "lower_limit = np.array(X).mean() - 3*np.array(X).std()\n",
    "upper_limit, lower_limit"
   ]
  },
  {
   "cell_type": "code",
   "execution_count": 18,
   "metadata": {},
   "outputs": [
    {
     "data": {
      "text/plain": [
       "(array([False, False, False, False, False, False, False, False, False,\n",
       "        False]),\n",
       " array([False, False, False, False, False, False, False, False, False,\n",
       "        False]))"
      ]
     },
     "execution_count": 18,
     "metadata": {},
     "output_type": "execute_result"
    }
   ],
   "source": [
    "# find the outliers.\n",
    "upper_outliers = np.array(X) > upper_limit\n",
    "lower_outliers = np.array(X) < lower_limit\n",
    "upper_outliers, lower_outliers\n",
    "# no outliers......"
   ]
  },
  {
   "cell_type": "markdown",
   "metadata": {},
   "source": [
    "Building the model and scaling the values."
   ]
  },
  {
   "cell_type": "code",
   "execution_count": 19,
   "metadata": {},
   "outputs": [],
   "source": [
    "from sklearn.linear_model import LinearRegression\n",
    "from sklearn.model_selection import train_test_split\n",
    "import numpy as np\n",
    "from sklearn import ensemble"
   ]
  },
  {
   "cell_type": "code",
   "execution_count": 20,
   "metadata": {},
   "outputs": [],
   "source": [
    "reg = LinearRegression(copy_X=True, fit_intercept=True, n_jobs=2)"
   ]
  },
  {
   "cell_type": "code",
   "execution_count": 21,
   "metadata": {},
   "outputs": [],
   "source": [
    "from sklearn.preprocessing import StandardScaler"
   ]
  },
  {
   "cell_type": "code",
   "execution_count": 22,
   "metadata": {},
   "outputs": [
    {
     "data": {
      "text/html": [
       "<style>#sk-container-id-1 {color: black;background-color: white;}#sk-container-id-1 pre{padding: 0;}#sk-container-id-1 div.sk-toggleable {background-color: white;}#sk-container-id-1 label.sk-toggleable__label {cursor: pointer;display: block;width: 100%;margin-bottom: 0;padding: 0.3em;box-sizing: border-box;text-align: center;}#sk-container-id-1 label.sk-toggleable__label-arrow:before {content: \"▸\";float: left;margin-right: 0.25em;color: #696969;}#sk-container-id-1 label.sk-toggleable__label-arrow:hover:before {color: black;}#sk-container-id-1 div.sk-estimator:hover label.sk-toggleable__label-arrow:before {color: black;}#sk-container-id-1 div.sk-toggleable__content {max-height: 0;max-width: 0;overflow: hidden;text-align: left;background-color: #f0f8ff;}#sk-container-id-1 div.sk-toggleable__content pre {margin: 0.2em;color: black;border-radius: 0.25em;background-color: #f0f8ff;}#sk-container-id-1 input.sk-toggleable__control:checked~div.sk-toggleable__content {max-height: 200px;max-width: 100%;overflow: auto;}#sk-container-id-1 input.sk-toggleable__control:checked~label.sk-toggleable__label-arrow:before {content: \"▾\";}#sk-container-id-1 div.sk-estimator input.sk-toggleable__control:checked~label.sk-toggleable__label {background-color: #d4ebff;}#sk-container-id-1 div.sk-label input.sk-toggleable__control:checked~label.sk-toggleable__label {background-color: #d4ebff;}#sk-container-id-1 input.sk-hidden--visually {border: 0;clip: rect(1px 1px 1px 1px);clip: rect(1px, 1px, 1px, 1px);height: 1px;margin: -1px;overflow: hidden;padding: 0;position: absolute;width: 1px;}#sk-container-id-1 div.sk-estimator {font-family: monospace;background-color: #f0f8ff;border: 1px dotted black;border-radius: 0.25em;box-sizing: border-box;margin-bottom: 0.5em;}#sk-container-id-1 div.sk-estimator:hover {background-color: #d4ebff;}#sk-container-id-1 div.sk-parallel-item::after {content: \"\";width: 100%;border-bottom: 1px solid gray;flex-grow: 1;}#sk-container-id-1 div.sk-label:hover label.sk-toggleable__label {background-color: #d4ebff;}#sk-container-id-1 div.sk-serial::before {content: \"\";position: absolute;border-left: 1px solid gray;box-sizing: border-box;top: 0;bottom: 0;left: 50%;z-index: 0;}#sk-container-id-1 div.sk-serial {display: flex;flex-direction: column;align-items: center;background-color: white;padding-right: 0.2em;padding-left: 0.2em;position: relative;}#sk-container-id-1 div.sk-item {position: relative;z-index: 1;}#sk-container-id-1 div.sk-parallel {display: flex;align-items: stretch;justify-content: center;background-color: white;position: relative;}#sk-container-id-1 div.sk-item::before, #sk-container-id-1 div.sk-parallel-item::before {content: \"\";position: absolute;border-left: 1px solid gray;box-sizing: border-box;top: 0;bottom: 0;left: 50%;z-index: -1;}#sk-container-id-1 div.sk-parallel-item {display: flex;flex-direction: column;z-index: 1;position: relative;background-color: white;}#sk-container-id-1 div.sk-parallel-item:first-child::after {align-self: flex-end;width: 50%;}#sk-container-id-1 div.sk-parallel-item:last-child::after {align-self: flex-start;width: 50%;}#sk-container-id-1 div.sk-parallel-item:only-child::after {width: 0;}#sk-container-id-1 div.sk-dashed-wrapped {border: 1px dashed gray;margin: 0 0.4em 0.5em 0.4em;box-sizing: border-box;padding-bottom: 0.4em;background-color: white;}#sk-container-id-1 div.sk-label label {font-family: monospace;font-weight: bold;display: inline-block;line-height: 1.2em;}#sk-container-id-1 div.sk-label-container {text-align: center;}#sk-container-id-1 div.sk-container {/* jupyter's `normalize.less` sets `[hidden] { display: none; }` but bootstrap.min.css set `[hidden] { display: none !important; }` so we also need the `!important` here to be able to override the default hidden behavior on the sphinx rendered scikit-learn.org. See: https://github.com/scikit-learn/scikit-learn/issues/21755 */display: inline-block !important;position: relative;}#sk-container-id-1 div.sk-text-repr-fallback {display: none;}</style><div id=\"sk-container-id-1\" class=\"sk-top-container\"><div class=\"sk-text-repr-fallback\"><pre>StandardScaler()</pre><b>In a Jupyter environment, please rerun this cell to show the HTML representation or trust the notebook. <br />On GitHub, the HTML representation is unable to render, please try loading this page with nbviewer.org.</b></div><div class=\"sk-container\" hidden><div class=\"sk-item\"><div class=\"sk-estimator sk-toggleable\"><input class=\"sk-toggleable__control sk-hidden--visually\" id=\"sk-estimator-id-1\" type=\"checkbox\" checked><label for=\"sk-estimator-id-1\" class=\"sk-toggleable__label sk-toggleable__label-arrow\">StandardScaler</label><div class=\"sk-toggleable__content\"><pre>StandardScaler()</pre></div></div></div></div></div>"
      ],
      "text/plain": [
       "StandardScaler()"
      ]
     },
     "execution_count": 22,
     "metadata": {},
     "output_type": "execute_result"
    }
   ],
   "source": [
    "scaler_x = StandardScaler()\n",
    "scaler_x.fit((np.array(X).reshape(-1, 1)))\n",
    "scaler_y = StandardScaler()\n",
    "scaler_y.fit((np.array(Y).reshape(-1, 1)))"
   ]
  },
  {
   "cell_type": "code",
   "execution_count": 23,
   "metadata": {},
   "outputs": [
    {
     "data": {
      "text/plain": [
       "(array([[-0.79460878],\n",
       "        [-0.29009527],\n",
       "        [-0.03783851],\n",
       "        [ 0.40361081],\n",
       "        [-1.55137905],\n",
       "        [-0.41622365],\n",
       "        [ 1.6018304 ],\n",
       "        [ 1.85408716],\n",
       "        [-0.73154459],\n",
       "        [-0.03783851]]),\n",
       " array([[-0.72683522],\n",
       "        [ 0.4466096 ],\n",
       "        [-0.13135576],\n",
       "        [ 0.37655319],\n",
       "        [-1.53248391],\n",
       "        [-1.18220187],\n",
       "        [ 2.07542106],\n",
       "        [ 0.65677882],\n",
       "        [ 0.56920831],\n",
       "        [-0.55169421]]))"
      ]
     },
     "execution_count": 23,
     "metadata": {},
     "output_type": "execute_result"
    }
   ],
   "source": [
    "x = scaler_x.transform((np.array(X).reshape(-1, 1)))\n",
    "y = scaler_y.transform((np.array(Y).reshape(-1, 1))) # think about using np.log10(y), to inverse it np.exp()\n",
    "x,y"
   ]
  },
  {
   "cell_type": "code",
   "execution_count": 24,
   "metadata": {},
   "outputs": [],
   "source": [
    "x_train , x_test , y_train , y_test = train_test_split(x.reshape(-1, 1), \n",
    "                                                       y.reshape(-1, 1), \n",
    "                                                       test_size = 0.2,\n",
    "                                                       random_state =2)"
   ]
  },
  {
   "cell_type": "code",
   "execution_count": 25,
   "metadata": {},
   "outputs": [
    {
     "data": {
      "text/html": [
       "<style>#sk-container-id-2 {color: black;background-color: white;}#sk-container-id-2 pre{padding: 0;}#sk-container-id-2 div.sk-toggleable {background-color: white;}#sk-container-id-2 label.sk-toggleable__label {cursor: pointer;display: block;width: 100%;margin-bottom: 0;padding: 0.3em;box-sizing: border-box;text-align: center;}#sk-container-id-2 label.sk-toggleable__label-arrow:before {content: \"▸\";float: left;margin-right: 0.25em;color: #696969;}#sk-container-id-2 label.sk-toggleable__label-arrow:hover:before {color: black;}#sk-container-id-2 div.sk-estimator:hover label.sk-toggleable__label-arrow:before {color: black;}#sk-container-id-2 div.sk-toggleable__content {max-height: 0;max-width: 0;overflow: hidden;text-align: left;background-color: #f0f8ff;}#sk-container-id-2 div.sk-toggleable__content pre {margin: 0.2em;color: black;border-radius: 0.25em;background-color: #f0f8ff;}#sk-container-id-2 input.sk-toggleable__control:checked~div.sk-toggleable__content {max-height: 200px;max-width: 100%;overflow: auto;}#sk-container-id-2 input.sk-toggleable__control:checked~label.sk-toggleable__label-arrow:before {content: \"▾\";}#sk-container-id-2 div.sk-estimator input.sk-toggleable__control:checked~label.sk-toggleable__label {background-color: #d4ebff;}#sk-container-id-2 div.sk-label input.sk-toggleable__control:checked~label.sk-toggleable__label {background-color: #d4ebff;}#sk-container-id-2 input.sk-hidden--visually {border: 0;clip: rect(1px 1px 1px 1px);clip: rect(1px, 1px, 1px, 1px);height: 1px;margin: -1px;overflow: hidden;padding: 0;position: absolute;width: 1px;}#sk-container-id-2 div.sk-estimator {font-family: monospace;background-color: #f0f8ff;border: 1px dotted black;border-radius: 0.25em;box-sizing: border-box;margin-bottom: 0.5em;}#sk-container-id-2 div.sk-estimator:hover {background-color: #d4ebff;}#sk-container-id-2 div.sk-parallel-item::after {content: \"\";width: 100%;border-bottom: 1px solid gray;flex-grow: 1;}#sk-container-id-2 div.sk-label:hover label.sk-toggleable__label {background-color: #d4ebff;}#sk-container-id-2 div.sk-serial::before {content: \"\";position: absolute;border-left: 1px solid gray;box-sizing: border-box;top: 0;bottom: 0;left: 50%;z-index: 0;}#sk-container-id-2 div.sk-serial {display: flex;flex-direction: column;align-items: center;background-color: white;padding-right: 0.2em;padding-left: 0.2em;position: relative;}#sk-container-id-2 div.sk-item {position: relative;z-index: 1;}#sk-container-id-2 div.sk-parallel {display: flex;align-items: stretch;justify-content: center;background-color: white;position: relative;}#sk-container-id-2 div.sk-item::before, #sk-container-id-2 div.sk-parallel-item::before {content: \"\";position: absolute;border-left: 1px solid gray;box-sizing: border-box;top: 0;bottom: 0;left: 50%;z-index: -1;}#sk-container-id-2 div.sk-parallel-item {display: flex;flex-direction: column;z-index: 1;position: relative;background-color: white;}#sk-container-id-2 div.sk-parallel-item:first-child::after {align-self: flex-end;width: 50%;}#sk-container-id-2 div.sk-parallel-item:last-child::after {align-self: flex-start;width: 50%;}#sk-container-id-2 div.sk-parallel-item:only-child::after {width: 0;}#sk-container-id-2 div.sk-dashed-wrapped {border: 1px dashed gray;margin: 0 0.4em 0.5em 0.4em;box-sizing: border-box;padding-bottom: 0.4em;background-color: white;}#sk-container-id-2 div.sk-label label {font-family: monospace;font-weight: bold;display: inline-block;line-height: 1.2em;}#sk-container-id-2 div.sk-label-container {text-align: center;}#sk-container-id-2 div.sk-container {/* jupyter's `normalize.less` sets `[hidden] { display: none; }` but bootstrap.min.css set `[hidden] { display: none !important; }` so we also need the `!important` here to be able to override the default hidden behavior on the sphinx rendered scikit-learn.org. See: https://github.com/scikit-learn/scikit-learn/issues/21755 */display: inline-block !important;position: relative;}#sk-container-id-2 div.sk-text-repr-fallback {display: none;}</style><div id=\"sk-container-id-2\" class=\"sk-top-container\"><div class=\"sk-text-repr-fallback\"><pre>LinearRegression(n_jobs=2)</pre><b>In a Jupyter environment, please rerun this cell to show the HTML representation or trust the notebook. <br />On GitHub, the HTML representation is unable to render, please try loading this page with nbviewer.org.</b></div><div class=\"sk-container\" hidden><div class=\"sk-item\"><div class=\"sk-estimator sk-toggleable\"><input class=\"sk-toggleable__control sk-hidden--visually\" id=\"sk-estimator-id-2\" type=\"checkbox\" checked><label for=\"sk-estimator-id-2\" class=\"sk-toggleable__label sk-toggleable__label-arrow\">LinearRegression</label><div class=\"sk-toggleable__content\"><pre>LinearRegression(n_jobs=2)</pre></div></div></div></div></div>"
      ],
      "text/plain": [
       "LinearRegression(n_jobs=2)"
      ]
     },
     "execution_count": 25,
     "metadata": {},
     "output_type": "execute_result"
    }
   ],
   "source": [
    "reg.fit(x_train,y_train)"
   ]
  },
  {
   "cell_type": "code",
   "execution_count": 26,
   "metadata": {},
   "outputs": [],
   "source": [
    "from sklearn.metrics import mean_squared_error"
   ]
  },
  {
   "cell_type": "code",
   "execution_count": 27,
   "metadata": {},
   "outputs": [
    {
     "data": {
      "text/plain": [
       "0.30823530059006343"
      ]
     },
     "execution_count": 27,
     "metadata": {},
     "output_type": "execute_result"
    }
   ],
   "source": [
    "mean_squared_error(y_test, reg.predict(x_test))"
   ]
  },
  {
   "cell_type": "code",
   "execution_count": 28,
   "metadata": {},
   "outputs": [
    {
     "data": {
      "text/plain": [
       "0.6852181089549264"
      ]
     },
     "execution_count": 28,
     "metadata": {},
     "output_type": "execute_result"
    }
   ],
   "source": [
    "reg.score(x_test,y_test)"
   ]
  },
  {
   "cell_type": "code",
   "execution_count": 29,
   "metadata": {},
   "outputs": [
    {
     "data": {
      "text/plain": [
       "(array([[350.88057816]]), array([[351.]]))"
      ]
     },
     "execution_count": 29,
     "metadata": {},
     "output_type": "execute_result"
    }
   ],
   "source": [
    "pred_y = reg.predict(scaler_x.transform(np.array([2350]).reshape(1, -1)))\n",
    "pred_y_rescaled = scaler_y.inverse_transform(pred_y)\n",
    "final_y = np.around(pred_y_rescaled)\n",
    "pred_y_rescaled, final_y"
   ]
  },
  {
   "cell_type": "markdown",
   "metadata": {},
   "source": [
    "Saving the model and the x,y scalars"
   ]
  },
  {
   "cell_type": "code",
   "execution_count": 30,
   "metadata": {},
   "outputs": [],
   "source": [
    "import pickle"
   ]
  },
  {
   "cell_type": "code",
   "execution_count": 31,
   "metadata": {},
   "outputs": [],
   "source": [
    "pickle.dump(reg, open(\"reg_model.pkl\", \"wb\"))\n",
    "pickle.dump(scaler_x, open(\"scaler_x.pkl\", \"wb\"))\n",
    "pickle.dump(scaler_y, open(\"scaler_y.pkl\", \"wb\"))"
   ]
  },
  {
   "cell_type": "code",
   "execution_count": 32,
   "metadata": {},
   "outputs": [],
   "source": [
    "loaded_model = pickle.load(open(\"reg_model.pkl\", \"rb\"))\n",
    "loaded_scaler_x = pickle.load(open(\"scaler_x.pkl\", \"rb\"))\n",
    "loaded_scaler_y = pickle.load(open(\"scaler_y.pkl\", \"rb\"))"
   ]
  },
  {
   "cell_type": "code",
   "execution_count": 50,
   "metadata": {},
   "outputs": [
    {
     "data": {
      "text/plain": [
       "(array([[350.88057816]]), 351.0)"
      ]
     },
     "execution_count": 50,
     "metadata": {},
     "output_type": "execute_result"
    }
   ],
   "source": [
    "pred_y = loaded_model.predict(loaded_scaler_x.transform(np.array([2350]).reshape(1, -1)))\n",
    "pred_y_rescaled = loaded_scaler_y.inverse_transform(pred_y)\n",
    "final_y = np.around(pred_y_rescaled)\n",
    "pred_y_rescaled, final_y"
   ]
  },
  {
   "cell_type": "markdown",
   "metadata": {},
   "source": [
    "You could try this code snippet after you run the server from main.py file"
   ]
  },
  {
   "cell_type": "code",
   "execution_count": 52,
   "metadata": {},
   "outputs": [
    {
     "name": "stdout",
     "output_type": "stream",
     "text": [
      "{\"msg\":\"Prediction Done!\",\"Price\":351.0}\n"
     ]
    }
   ],
   "source": [
    "import json\n",
    "import requests\n",
    "\n",
    "url = \"http://127.0.0.1:8000/price_prediction/\"\n",
    "\n",
    "input_for_model = {'square_meter':2350}\n",
    "input_json = json.dumps(input_for_model)\n",
    "response = requests.post(url, input_json)\n",
    "print(response.text)"
   ]
  },
  {
   "cell_type": "code",
   "execution_count": null,
   "metadata": {},
   "outputs": [],
   "source": []
  }
 ],
 "metadata": {
  "kernelspec": {
   "display_name": "Python 3.9.6 ('venv_test': venv)",
   "language": "python",
   "name": "python3"
  },
  "language_info": {
   "codemirror_mode": {
    "name": "ipython",
    "version": 3
   },
   "file_extension": ".py",
   "mimetype": "text/x-python",
   "name": "python",
   "nbconvert_exporter": "python",
   "pygments_lexer": "ipython3",
   "version": "3.9.6"
  },
  "orig_nbformat": 4,
  "vscode": {
   "interpreter": {
    "hash": "a152e8cb4ac264126ae7fb39646f3eeb157c7e3d3142fd7b7544f70b3a77c0b0"
   }
  }
 },
 "nbformat": 4,
 "nbformat_minor": 2
}
